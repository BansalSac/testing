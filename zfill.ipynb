{
 "cells": [
  {
   "cell_type": "code",
   "execution_count": 21,
   "id": "9491197e-e313-41bc-b068-143661cb8414",
   "metadata": {
    "editable": true,
    "slideshow": {
     "slide_type": ""
    },
    "tags": []
   },
   "outputs": [],
   "source": [
    "import datetime\n",
    "import os"
   ]
  },
  {
   "cell_type": "code",
   "execution_count": 22,
   "id": "fec71849-876c-4047-a52b-8ad609bce47c",
   "metadata": {},
   "outputs": [],
   "source": [
    "now=datetime.datetime.now()"
   ]
  },
  {
   "cell_type": "code",
   "execution_count": 23,
   "id": "3aeeb4fa-86f9-450e-9aa3-5cda8ccc7229",
   "metadata": {},
   "outputs": [
    {
     "name": "stdout",
     "output_type": "stream",
     "text": [
      "2023-08-13 10:52:58.716709\n"
     ]
    }
   ],
   "source": [
    "print(now)"
   ]
  },
  {
   "cell_type": "code",
   "execution_count": 24,
   "id": "8e9e1f4b-9254-4c2e-a1f8-592648edf4eb",
   "metadata": {},
   "outputs": [
    {
     "name": "stdout",
     "output_type": "stream",
     "text": [
      "<class 'datetime.datetime'>\n"
     ]
    }
   ],
   "source": [
    "print(type(now))"
   ]
  },
  {
   "cell_type": "code",
   "execution_count": 25,
   "id": "c6f86f73-f500-4676-81c0-d41925aad5d0",
   "metadata": {},
   "outputs": [
    {
     "data": {
      "text/plain": [
       "'2023-08-13 10:52:58.716709'"
      ]
     },
     "execution_count": 25,
     "metadata": {},
     "output_type": "execute_result"
    }
   ],
   "source": [
    "strnow=str(now)\n",
    "strnow"
   ]
  },
  {
   "cell_type": "code",
   "execution_count": 26,
   "id": "74071736-59a9-4bb9-b684-e8e49f7d9086",
   "metadata": {},
   "outputs": [
    {
     "data": {
      "text/plain": [
       "'D:\\\\Python Projects\\\\testing'"
      ]
     },
     "execution_count": 26,
     "metadata": {},
     "output_type": "execute_result"
    }
   ],
   "source": [
    "os.getcwd()"
   ]
  },
  {
   "cell_type": "code",
   "execution_count": 27,
   "id": "1308af6a-f7a8-4e4f-9779-742dca392bf0",
   "metadata": {},
   "outputs": [
    {
     "data": {
      "text/plain": [
       "['.ipynb_checkpoints', 'test.txt', 'Untitled.ipynb']"
      ]
     },
     "execution_count": 27,
     "metadata": {},
     "output_type": "execute_result"
    }
   ],
   "source": [
    "with open('test.txt','w+') as f:\n",
    "    pass\n",
    "os.listdir()"
   ]
  },
  {
   "cell_type": "markdown",
   "id": "2bce5812-f863-4443-9c50-ffa5005c2024",
   "metadata": {},
   "source": [
    "# using zfill method to prefix 0 in front of string"
   ]
  },
  {
   "cell_type": "code",
   "execution_count": 28,
   "id": "56ce0286-dad7-45f2-91ab-e7eee1fb0120",
   "metadata": {},
   "outputs": [
    {
     "name": "stdout",
     "output_type": "stream",
     "text": [
      "01\n",
      "02\n",
      "03\n",
      "04\n",
      "05\n",
      "06\n",
      "07\n",
      "08\n",
      "09\n",
      "10\n"
     ]
    }
   ],
   "source": [
    "strList=['1','2','3','4','5','6','7','8','9','10']\n",
    "for item in strList:\n",
    "    newitem=item.zfill(2)\n",
    "    print(newitem)"
   ]
  },
  {
   "cell_type": "code",
   "execution_count": 29,
   "id": "644b1e96-8e2f-45bd-8c09-7706563ab6b7",
   "metadata": {},
   "outputs": [],
   "source": [
    "# print(dir(os))"
   ]
  },
  {
   "cell_type": "code",
   "execution_count": 1,
   "id": "11ab6684-1eec-4049-bae4-f02dd28f7aae",
   "metadata": {},
   "outputs": [],
   "source": [
    "import csv\n",
    "import re"
   ]
  },
  {
   "cell_type": "code",
   "execution_count": 5,
   "id": "bd5d8012-4c1b-40e0-b1b4-8e85ad3e9469",
   "metadata": {},
   "outputs": [
    {
     "name": "stdout",
     "output_type": "stream",
     "text": [
      "8\n",
      "[('Serial', '58469721')]\n"
     ]
    }
   ],
   "source": [
    "text='Serial no.- 58469721'\n",
    "pattern=re.compile(r'([Ss]erial)\\s?no\\.\\-\\s?(\\d+)')\n",
    "# matches=pattern.findall(text)\n",
    "# # print(matches)\n",
    "# for match in matches:\n",
    "#     print(match)\n",
    "\n",
    "\n",
    "\n",
    "with open('Shaft counter_ASCII.csv','r') as csv_file:\n",
    "    csv_reader=csv.reader(csv_file, delimiter=';')\n",
    " \n",
    "    for index, line in enumerate(csv_reader):\n",
    "        # print(line)\n",
    "        \n",
    "        # print(' '.join(line))\n",
    "        # print(strline)\n",
    "        matches=pattern.findall(' '.join(line))\n",
    "        if len(matches)>0:\n",
    "            print(index)\n",
    "            print(matches)\n",
    "    # print(matches)\n"
   ]
  },
  {
   "cell_type": "code",
   "execution_count": 7,
   "id": "755ca7f0-6240-47d9-bbcc-557598480422",
   "metadata": {},
   "outputs": [
    {
     "name": "stdout",
     "output_type": "stream",
     "text": [
      "<zip object at 0x000001F923EA3AC0>\n"
     ]
    }
   ],
   "source": [
    "list1=['A','B','C']\n",
    "list2=[1,2,3]\n",
    "list3=zip(list1,list2)\n",
    "print(list3)"
   ]
  },
  {
   "cell_type": "code",
   "execution_count": null,
   "id": "4678cbf6-b6fa-48c4-af2f-2e1bf388038f",
   "metadata": {},
   "outputs": [],
   "source": []
  }
 ],
 "metadata": {
  "kernelspec": {
   "display_name": "Python 3 (ipykernel)",
   "language": "python",
   "name": "python3"
  },
  "language_info": {
   "codemirror_mode": {
    "name": "ipython",
    "version": 3
   },
   "file_extension": ".py",
   "mimetype": "text/x-python",
   "name": "python",
   "nbconvert_exporter": "python",
   "pygments_lexer": "ipython3",
   "version": "3.11.4"
  }
 },
 "nbformat": 4,
 "nbformat_minor": 5
}

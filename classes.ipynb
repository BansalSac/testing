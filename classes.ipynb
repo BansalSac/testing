{
 "cells": [
  {
   "cell_type": "code",
   "execution_count": 7,
   "id": "46507d8e-7d67-4589-83af-702feefd5626",
   "metadata": {},
   "outputs": [
    {
     "name": "stdout",
     "output_type": "stream",
     "text": [
      "Amit kumar\n",
      "50000\n",
      "51000.0\n",
      "51000.0\n",
      "53550.0\n",
      "sumit kumar\n",
      "50000\n",
      "52500.0\n",
      "suman kumar\n",
      "north\n",
      "70000\n",
      "84000.0\n"
     ]
    }
   ],
   "source": [
    "class employee:\n",
    "\n",
    "    payRise=1.02\n",
    "\n",
    "    def __init__(self,first,last,pay):\n",
    "\n",
    "        self.firstName=first\n",
    "        self.lastName=last\n",
    "        self.fullName=f'{first} {last}'.format(first,last)\n",
    "        self.pay=pay\n",
    "\n",
    "    def calPay(self):\n",
    "        self.pay=self.pay*self.payRise\n",
    "\n",
    "    @classmethod\n",
    "    def setpayrise(cls):\n",
    "        cls.payRise=1.05\n",
    "\n",
    "class service(employee):\n",
    "    payRise=1.2\n",
    "\n",
    "    def __init__(self,first,last,pay,region):\n",
    "        super().__init__(first,last,pay)\n",
    "        self.region=region\n",
    "\n",
    "se1=service('suman','kumar',70000,'north')\n",
    "    \n",
    "emp1=employee('Amit','kumar',50000)\n",
    "\n",
    "print(emp1.fullName)\n",
    "print(emp1.pay)\n",
    "emp1.calPay()\n",
    "print(emp1.pay)\n",
    "\n",
    "employee.setpayrise()\n",
    "print(emp1.pay)\n",
    "emp1.calPay()\n",
    "print(emp1.pay)\n",
    "\n",
    "emp2=employee('sumit','kumar',50000)\n",
    "\n",
    "print(emp2.fullName)\n",
    "print(emp2.pay)\n",
    "emp2.calPay()\n",
    "print(emp2.pay)\n",
    "\n",
    "print(se1.fullName)\n",
    "print(se1.region)\n",
    "print(se1.pay)\n",
    "se1.calPay()\n",
    "print(se1.pay)\n"
   ]
  },
  {
   "cell_type": "code",
   "execution_count": null,
   "id": "74af9fa3-14ef-417f-9582-c789a79802e8",
   "metadata": {},
   "outputs": [],
   "source": []
  }
 ],
 "metadata": {
  "kernelspec": {
   "display_name": "Python 3 (ipykernel)",
   "language": "python",
   "name": "python3"
  },
  "language_info": {
   "codemirror_mode": {
    "name": "ipython",
    "version": 3
   },
   "file_extension": ".py",
   "mimetype": "text/x-python",
   "name": "python",
   "nbconvert_exporter": "python",
   "pygments_lexer": "ipython3",
   "version": "3.11.4"
  }
 },
 "nbformat": 4,
 "nbformat_minor": 5
}

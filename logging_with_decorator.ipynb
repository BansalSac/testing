{
 "cells": [
  {
   "cell_type": "code",
   "execution_count": 58,
   "id": "81658e07-ea4e-40e9-a2a4-180a723c10c6",
   "metadata": {},
   "outputs": [
    {
     "name": "stdout",
     "output_type": "stream",
     "text": [
      "hii\n",
      "byye\n"
     ]
    },
    {
     "data": {
      "text/plain": [
       "'return nothing'"
      ]
     },
     "execution_count": 58,
     "metadata": {},
     "output_type": "execute_result"
    }
   ],
   "source": [
    "from functools import wraps\n",
    "\n",
    "def my_logger(original_fn):\n",
    "    import logging\n",
    "    logging.basicConfig(filename='{}.log'.format(original_fn.__name__), level=logging.INFO)\n",
    "\n",
    "    @wraps(original_fn)\n",
    "    def wrapper(*args, **kwargs):\n",
    "        logging.info('{} with args: {}, kwargs: {}'.format(original_fn.__name__,args, kwargs))\n",
    "        return original_fn(*args, **kwargs)\n",
    "\n",
    "    return wrapper\n",
    "        \n",
    "\n",
    "def outer_deco(original_fn):\n",
    "\n",
    "    @wraps(original_fn)\n",
    "    def wrapper(*args, **kwargs):\n",
    "        print(\"length of arguments passed to {}: {}\".format(original_fn.__name__,len(args)))\n",
    "        return original_fn(*args, **kwargs)\n",
    "    return wrapper\n",
    "\n",
    "def timer_fn(original_fn):\n",
    "    import time\n",
    "\n",
    "    @wraps(original_fn)\n",
    "    def wrapper(*args, **kwargs):\n",
    "        t1=time.time()\n",
    "        result=original_fn(*args, **kwargs)\n",
    "        t2=time.time()\n",
    "        time_taken=t2-t1\n",
    "        print('{} ran in: {} secs'.format(original_fn.__name__, time_taken))\n",
    "        return result\n",
    "\n",
    "    return wrapper\n",
    "\n",
    "# @timer_fn\n",
    "# @outer_deco\n",
    "# @my_logger\n",
    "def myfunc(*args,**kwargs):\n",
    "    \n",
    "     if len(args)>0:\n",
    "        # print(args)\n",
    "        for i in args:\n",
    "            print(i)\n",
    "     else:\n",
    "        print('no data')\n",
    "\n",
    "     return('return nothing')\n",
    "    \n",
    "mylist=['hii','byye']\n",
    "\n",
    "myfunc=my_logger(myfunc)\n",
    "myfunc(*mylist)\n"
   ]
  },
  {
   "cell_type": "code",
   "execution_count": null,
   "id": "7ce16677-a32f-4200-ad48-cabb0d294ba2",
   "metadata": {},
   "outputs": [],
   "source": []
  }
 ],
 "metadata": {
  "kernelspec": {
   "display_name": "Python 3 (ipykernel)",
   "language": "python",
   "name": "python3"
  },
  "language_info": {
   "codemirror_mode": {
    "name": "ipython",
    "version": 3
   },
   "file_extension": ".py",
   "mimetype": "text/x-python",
   "name": "python",
   "nbconvert_exporter": "python",
   "pygments_lexer": "ipython3",
   "version": "3.11.4"
  }
 },
 "nbformat": 4,
 "nbformat_minor": 5
}

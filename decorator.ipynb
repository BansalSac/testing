{
 "cells": [
  {
   "cell_type": "code",
   "execution_count": 6,
   "id": "941d5efc-d105-4aa5-aa9f-6cae49dfa493",
   "metadata": {},
   "outputs": [
    {
     "name": "stdout",
     "output_type": "stream",
     "text": [
      "warpper activated\n",
      "\n"
     ]
    }
   ],
   "source": [
    "def outerFunc(inputFunc):\n",
    "    def wrapper(*args,**kwargs):\n",
    "        print(\"warpper activated\")\n",
    "        inputFunc(*args,**kwargs)\n",
    "    return wrapper\n",
    "\n",
    "@outerFunc\n",
    "def employee(name,age):\n",
    "    print(name,age)\n",
    "\n",
    "@outerFunc\n",
    "def employee():\n",
    "    print('')\n",
    "\n",
    "employee()"
   ]
  },
  {
   "cell_type": "code",
   "execution_count": null,
   "id": "f3d01518-f431-4dfa-b8f4-6463e2c33672",
   "metadata": {},
   "outputs": [],
   "source": []
  }
 ],
 "metadata": {
  "kernelspec": {
   "display_name": "Python 3 (ipykernel)",
   "language": "python",
   "name": "python3"
  },
  "language_info": {
   "codemirror_mode": {
    "name": "ipython",
    "version": 3
   },
   "file_extension": ".py",
   "mimetype": "text/x-python",
   "name": "python",
   "nbconvert_exporter": "python",
   "pygments_lexer": "ipython3",
   "version": "3.11.4"
  }
 },
 "nbformat": 4,
 "nbformat_minor": 5
}
